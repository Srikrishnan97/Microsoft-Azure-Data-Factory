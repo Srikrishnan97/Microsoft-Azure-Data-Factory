{
 "cells": [
  {
   "cell_type": "code",
   "execution_count": 147,
   "metadata": {},
   "outputs": [],
   "source": [
    "import gspread\n",
    "import pandas as pd\n",
    "from oauth2client.service_account import ServiceAccountCredentials\n",
    "\n",
    "# use creds to create a client to interact with the Google Drive API\n",
    "scope = ['https://spreadsheets.google.com/feeds','https://www.googleapis.com/auth/drive']\n",
    "creds = ServiceAccountCredentials.from_json_keyfile_name(r'D:\\hari\\project\\recruitment\\recruitment-sheets-fedf7146289b.json', scope)\n",
    "client = gspread.authorize(creds)\n",
    "\n",
    "# Find a workbook by name and open the first sheet\n",
    "# Make sure you use the right name here.\n",
    "sheets_name = ['recruitment','candidate','referral','interview','employee']\n",
    "dic1 = {'recruitment':['Request_Id','Role','Experience','Client','Total_Requisition','Project','Opened_On','Recruiter','Priority','Location','On_Hold_Date','Resumed_Date','Cancelled_Date','Skills','Role_Category','Status','Remarks'],\n",
    "       'candidate':[\"Candidate_Id\",\"Name\",\"Gender\",\"Email_Id\",\"Phone_Number\",\"Source\",\"Career_Started_At\",\"Break_Taken\",\"Relevant_Experience\",'Round','Result','Status','Offered'],\n",
    "       'referral':[\"Referral_Id\",\"Candidate_Id\",\"Emp_Id\",\"Referral_Date\",'Status'],\n",
    "       'interview':[\"Interview_Id\",\"Candidate_Id\",\"Interviewer_Id\",\"Round\",\"Result\",\"Interview_Date\",\"Status\",\"Remarks\"],\n",
    "       'employee':[\"Emp_Id\",\"Name\",\"Candidate_Id\",\"Request_Id\",\"Joined_Date\",\"Salary\",\"Last_Salary\",\"Hike_Pert\"]}\n",
    "for i in sheets_name:\n",
    "    sheet = client.open(\"recruitment sample data\").worksheet(i)\n",
    "    # Extract and print all of the values\n",
    "    list_of_hashes = sheet.get_all_records()\n",
    "    pd.DataFrame(list_of_hashes)[dic1[i]].to_csv(r\"D:\\hari\\project\\recruitment\\local files\\{}.csv\".format(i),index=False)\n"
   ]
  },
  {
   "cell_type": "code",
   "execution_count": 148,
   "metadata": {},
   "outputs": [
    {
     "data": {
      "text/plain": [
       "{'spreadsheetId': '1qJcUUgQIYznFaBLiUyZphEZOPuhd4JZzzZJHOsFsi40',\n",
       " 'updatedRange': 'candidate!J1247:L1265',\n",
       " 'updatedRows': 6,\n",
       " 'updatedColumns': 3,\n",
       " 'updatedCells': 18}"
      ]
     },
     "execution_count": 148,
     "metadata": {},
     "output_type": "execute_result"
    }
   ],
   "source": [
    "# Candidate tab transformations\n",
    "import pandas as pd\n",
    "interview = pd.read_csv(R\"D:\\hari\\project\\recruitment\\local files\\interview.csv\")\n",
    "candidate = pd.read_csv(R\"D:\\hari\\project\\recruitment\\local files\\candidate.csv\")\n",
    "\n",
    "c1 = candidate[~candidate['Gender'].isnull()]\n",
    "c1 = c1[~c1['Status'].isin(['rejected','selected'])]\n",
    "c2= c1[['Candidate_Id']]\n",
    "i1  = c2.merge(interview,on = 'Candidate_Id',how= 'inner')\n",
    "i2 = i1.groupby(['Candidate_Id'])['Interview_Id'].max()\n",
    "can_res = i1[i1['Interview_Id'].isin(i2.values)][[\"Candidate_Id\",\"Round\",\"Result\",\"Status\"]]\n",
    "sheet = client.open(\"recruitment sample data\").worksheet('candidate')\n",
    "can_upd = dict(list(zip(can_res.Candidate_Id.values,can_res.set_index('Candidate_Id').values.tolist())))\n",
    "\n",
    "li = []\n",
    "for i in can_upd:\n",
    "    for num,j in enumerate([10,11,12]):\n",
    "        li.append(gspread.models.Cell(i+1,j,str(can_upd[i][num])))\n",
    "sheet.update_cells(li)"
   ]
  },
  {
   "cell_type": "code",
   "execution_count": 149,
   "metadata": {},
   "outputs": [
    {
     "data": {
      "text/plain": [
       "{'spreadsheetId': '1qJcUUgQIYznFaBLiUyZphEZOPuhd4JZzzZJHOsFsi40',\n",
       " 'updatedRange': 'referral!E191:E198',\n",
       " 'updatedRows': 5,\n",
       " 'updatedColumns': 1,\n",
       " 'updatedCells': 5}"
      ]
     },
     "execution_count": 149,
     "metadata": {},
     "output_type": "execute_result"
    }
   ],
   "source": [
    "# referral tab transformations\n",
    "r1 = pd.read_csv(R\"D:\\hari\\project\\recruitment\\local files\\referral.csv\")\n",
    "r1  = r1[~r1['Candidate_Id'].isnull()]\n",
    "r1.Candidate_Id = r1.Candidate_Id.astype('int')\n",
    "r1.Emp_Id = r1.Emp_Id.astype('int')\n",
    "r1 = r1[['Referral_Id','Candidate_Id','Emp_Id']]\n",
    "r2 = can_res[can_res['Candidate_Id'].isin(c1[c1['Source'] == 'referral']['Candidate_Id'].values)]\n",
    "r3 = r1.merge(r2,on = 'Candidate_Id')[['Referral_Id','Status']]\n",
    "ref_upt = dict(zip(r3.Referral_Id.values,r3.Status.values))\n",
    "sheet = client.open(\"recruitment sample data\").worksheet('referral')\n",
    "\n",
    "li = []\n",
    "for i in ref_upt:\n",
    "    li.append(gspread.models.Cell(i+1,5,str(ref_upt[i])))\n",
    "sheet.update_cells(li)"
   ]
  },
  {
   "cell_type": "code",
   "execution_count": 150,
   "metadata": {},
   "outputs": [
    {
     "data": {
      "text/plain": [
       "{'spreadsheetId': '1qJcUUgQIYznFaBLiUyZphEZOPuhd4JZzzZJHOsFsi40',\n",
       " 'updatedRange': 'recruitment!P2:T164',\n",
       " 'updatedRows': 163,\n",
       " 'updatedColumns': 5,\n",
       " 'updatedCells': 815}"
      ]
     },
     "execution_count": 150,
     "metadata": {},
     "output_type": "execute_result"
    }
   ],
   "source": [
    "# recruitment tab transformations\n",
    "import numpy as np\n",
    "import datetime\n",
    "\n",
    "recruitment = pd.read_csv(R\"D:\\hari\\project\\recruitment\\local files\\recruitment.csv\")\n",
    "employee = pd.read_csv(R\"D:\\hari\\project\\recruitment\\local files\\employee.csv\")\n",
    "e1 = employee.groupby(['Request_Id'],as_index=False)['Emp_Id'].count()\n",
    "e1.columns = ['Request_Id','Joined_Cnt']\n",
    "recruitment_1 = recruitment[recruitment['Status'].isin(['on-hold','cancelled','closed'])]\n",
    "recruitment = recruitment[~recruitment['Status'].isin(['on-hold','cancelled','closed'])]\n",
    "r1 = recruitment.merge(e1,on = 'Request_Id')\n",
    "r1['Balance_Position'] = r1['Total_Requisition'] - r1['Joined_Cnt']\n",
    "\n",
    "def status(x):\n",
    "    if x['Cancelled_Date'] is not np.nan:\n",
    "        return 'cancelled'\n",
    "    elif x['Resumed_Date'] is np.nan and x['On_Hold_Date'] is not np.nan:\n",
    "        return \"on-hold\"\n",
    "    elif x['Balance_Position'] > 0:\n",
    "        return \"open\"\n",
    "    else:\n",
    "        return \"closed\"\n",
    "    \n",
    "r1['Status_New'] = r1.apply(status,axis=1)\n",
    "r1.On_Hold_Date = pd.to_datetime(r1.On_Hold_Date)\n",
    "r1.Resumed_Date = pd.to_datetime(r1.Resumed_Date)\n",
    "r1.Opened_On = pd.to_datetime(r1.Opened_On)\n",
    "r1['onhold_age'] = (r1['Resumed_Date'] - r1['On_Hold_Date']).dt.days\n",
    "r1['today'] = datetime.datetime.now().date()\n",
    "r1['today'] = pd.to_datetime(r1['today'])\n",
    "r1['normal_ageing'] = (r1['today'] -  r1['Opened_On']).dt.days\n",
    "r1.onhold_age = r1.onhold_age.fillna(0)\n",
    "r1['ageing'] = r1['normal_ageing'] - r1['onhold_age']\n",
    "r1['ageing'] = r1['ageing'].astype('int')\n",
    "r1['rec_conver_rt'] = round((r1['Joined_Cnt']/r1['Total_Requisition']) * 100,2)\n",
    "r2 = r1[['Request_Id','Joined_Cnt','Balance_Position','ageing','Status_New','rec_conver_rt']]\n",
    "\n",
    "rec_upt = dict(zip(r2.Request_Id.values,r2[['Joined_Cnt','Balance_Position','ageing','Status_New','rec_conver_rt']].values.tolist()))\n",
    "sheet = client.open(\"recruitment sample data\").worksheet('recruitment')\n",
    "li = []\n",
    "for i in rec_upt:\n",
    "    for num,j in enumerate([16,17,18,19,20]):\n",
    "            li.append(gspread.models.Cell(i+1,j,str(rec_upt[i][num])))\n",
    "sheet.update_cells(li)"
   ]
  },
  {
   "cell_type": "code",
   "execution_count": 158,
   "metadata": {},
   "outputs": [
    {
     "name": "stderr",
     "output_type": "stream",
     "text": [
      "C:\\Users\\hari.m\\AppData\\Local\\Continuum\\anaconda3\\lib\\site-packages\\ipykernel_launcher.py:5: SettingWithCopyWarning: \n",
      "A value is trying to be set on a copy of a slice from a DataFrame.\n",
      "Try using .loc[row_indexer,col_indexer] = value instead\n",
      "\n",
      "See the caveats in the documentation: http://pandas.pydata.org/pandas-docs/stable/indexing.html#indexing-view-versus-copy\n",
      "  \"\"\"\n",
      "C:\\Users\\hari.m\\AppData\\Local\\Continuum\\anaconda3\\lib\\site-packages\\ipykernel_launcher.py:15: SettingWithCopyWarning: \n",
      "A value is trying to be set on a copy of a slice from a DataFrame.\n",
      "Try using .loc[row_indexer,col_indexer] = value instead\n",
      "\n",
      "See the caveats in the documentation: http://pandas.pydata.org/pandas-docs/stable/indexing.html#indexing-view-versus-copy\n",
      "  from ipykernel import kernelapp as app\n",
      "C:\\Users\\hari.m\\AppData\\Local\\Continuum\\anaconda3\\lib\\site-packages\\ipykernel_launcher.py:16: SettingWithCopyWarning: \n",
      "A value is trying to be set on a copy of a slice from a DataFrame.\n",
      "Try using .loc[row_indexer,col_indexer] = value instead\n",
      "\n",
      "See the caveats in the documentation: http://pandas.pydata.org/pandas-docs/stable/indexing.html#indexing-view-versus-copy\n",
      "  app.launch_new_instance()\n"
     ]
    },
    {
     "data": {
      "text/plain": [
       "{'spreadsheetId': '1qJcUUgQIYznFaBLiUyZphEZOPuhd4JZzzZJHOsFsi40',\n",
       " 'updatedRange': 'employee!A2:I475',\n",
       " 'updatedRows': 474,\n",
       " 'updatedColumns': 9,\n",
       " 'updatedCells': 4266}"
      ]
     },
     "execution_count": 158,
     "metadata": {},
     "output_type": "execute_result"
    }
   ],
   "source": [
    "# Employee tab transformations\n",
    "import math\n",
    "e1 = employee.merge(r1[['Request_Id','Opened_On','On_Hold_Date','Resumed_Date','Cancelled_Date','Status_New']])\n",
    "e2 = e1[~e1['Status_New'].isin(['cancelled'])]\n",
    "e2['Joined_Date'] = pd.to_datetime(e2['Joined_Date'])\n",
    "def hire_time(x):\n",
    "    if x['On_Hold_Date'] is not pd.NaT :\n",
    "        if x['Joined_Date'] <  x['On_Hold_Date']:\n",
    "            return (x['Joined_Date'] - x['Opened_On']).days\n",
    "        if  (x['Joined_Date'] >  x['On_Hold_Date']) and x['Resumed_Date'] is not pd.NaT:\n",
    "            return (x['Joined_Date'] - x['Resumed_Date']).days\n",
    "    else:\n",
    "        return (x['Joined_Date'] - x['Opened_On']).days\n",
    "    \n",
    "e2['Hike_Pert'] = round((e2['Salary']/e2['Last_Salary'] - 1) *100)\n",
    "e2['Hire_Time'] = e2.apply(hire_time,axis=1)\n",
    "e2 = employee.merge(e2[['Emp_Id','Hire_Time']],how='left')\n",
    "e2  = e2.sort_values('Emp_Id')\n",
    "sheet = client.open(\"recruitment sample data\").worksheet('employee')\n",
    "sheet.clear()\n",
    "sheet.append_row(list(e2.columns))\n",
    "d1 = {}\n",
    "li= []\n",
    "for i,j in enumerate(e2.values.tolist()):\n",
    "    d1[i+1] = j\n",
    "    for num,j1 in enumerate([1,2,3,4,5,6,7,8,9]):\n",
    "        val = d1[i+1][num]\n",
    "        if type(val) == float:\n",
    "            if math.isnan(val):\n",
    "                val = ''\n",
    "        li.append(gspread.models.Cell(i+1+1,j1,str(val)))\n",
    "sheet.update_cells(li)"
   ]
  },
  {
   "cell_type": "code",
   "execution_count": null,
   "metadata": {},
   "outputs": [],
   "source": []
  }
 ],
 "metadata": {
  "kernelspec": {
   "display_name": "Python 3",
   "language": "python",
   "name": "python3"
  },
  "language_info": {
   "codemirror_mode": {
    "name": "ipython",
    "version": 3
   },
   "file_extension": ".py",
   "mimetype": "text/x-python",
   "name": "python",
   "nbconvert_exporter": "python",
   "pygments_lexer": "ipython3",
   "version": "3.7.3"
  }
 },
 "nbformat": 4,
 "nbformat_minor": 2
}
